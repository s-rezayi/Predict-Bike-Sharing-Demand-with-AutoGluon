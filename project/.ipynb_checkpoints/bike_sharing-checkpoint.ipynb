{
 "cells": [
  {
   "cell_type": "markdown",
   "id": "4ed94a24",
   "metadata": {},
   "source": [
    "## Predict Bike Sharing Demand with AutoGluon"
   ]
  },
  {
   "cell_type": "code",
   "execution_count": null,
   "id": "70dab26e",
   "metadata": {},
   "outputs": [],
   "source": [
    "import pandas as pd\n",
    "from autogluon.tabular import TabularPredictor\n",
    "from sklearn.preprocessing import StandardScaler\n",
    "from sklearn.metrics import mean_squared_log_error\n",
    "from sklearn.model_selection import train_test_split\n",
    "import autogluon.core as ag"
   ]
  },
  {
   "cell_type": "markdown",
   "id": "dfcf9fd9",
   "metadata": {},
   "source": [
    "### Explore dataset"
   ]
  },
  {
   "cell_type": "code",
   "execution_count": null,
   "id": "ac8bc992",
   "metadata": {},
   "outputs": [],
   "source": [
    "train = pd.read_csv('train.csv')\n",
    "train.head()"
   ]
  },
  {
   "cell_type": "code",
   "execution_count": null,
   "id": "f2ad6182",
   "metadata": {},
   "outputs": [],
   "source": [
    "test = pd.read_csv('test.csv')\n",
    "test.head()"
   ]
  },
  {
   "cell_type": "code",
   "execution_count": null,
   "id": "6d7b854f",
   "metadata": {},
   "outputs": [],
   "source": [
    "submission = pd.read_csv('sampleSubmission.csv')"
   ]
  }
 ],
 "metadata": {
  "kernelspec": {
   "display_name": "Python 3 (ipykernel)",
   "language": "python",
   "name": "python3"
  },
  "language_info": {
   "codemirror_mode": {
    "name": "ipython",
    "version": 3
   },
   "file_extension": ".py",
   "mimetype": "text/x-python",
   "name": "python",
   "nbconvert_exporter": "python",
   "pygments_lexer": "ipython3",
   "version": "3.8.10"
  }
 },
 "nbformat": 4,
 "nbformat_minor": 5
}
